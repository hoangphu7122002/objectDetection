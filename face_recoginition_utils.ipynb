{
  "nbformat": 4,
  "nbformat_minor": 0,
  "metadata": {
    "colab": {
      "name": "face_recoginition_utils.ipynb",
      "provenance": [],
      "collapsed_sections": []
    },
    "kernelspec": {
      "name": "python3",
      "display_name": "Python 3"
    },
    "language_info": {
      "name": "python"
    },
    "accelerator": "GPU"
  },
  "cells": [
    {
      "cell_type": "code",
      "source": [
        "!pip install face_recognition\n",
        "!pip install tensorflow_addons"
      ],
      "metadata": {
        "colab": {
          "base_uri": "https://localhost:8080/"
        },
        "id": "4OBPO3hqqQ8p",
        "outputId": "a8138076-fddb-4733-997e-49442ab42308"
      },
      "execution_count": 1,
      "outputs": [
        {
          "output_type": "stream",
          "name": "stdout",
          "text": [
            "Collecting face_recognition\n",
            "  Downloading face_recognition-1.3.0-py2.py3-none-any.whl (15 kB)\n",
            "Requirement already satisfied: Pillow in /usr/local/lib/python3.7/dist-packages (from face_recognition) (7.1.2)\n",
            "Requirement already satisfied: dlib>=19.7 in /usr/local/lib/python3.7/dist-packages (from face_recognition) (19.18.0)\n",
            "Requirement already satisfied: numpy in /usr/local/lib/python3.7/dist-packages (from face_recognition) (1.21.5)\n",
            "Requirement already satisfied: Click>=6.0 in /usr/local/lib/python3.7/dist-packages (from face_recognition) (7.1.2)\n",
            "Collecting face-recognition-models>=0.3.0\n",
            "  Downloading face_recognition_models-0.3.0.tar.gz (100.1 MB)\n",
            "\u001b[K     |████████████████████████████████| 100.1 MB 21 kB/s \n",
            "\u001b[?25hBuilding wheels for collected packages: face-recognition-models\n",
            "  Building wheel for face-recognition-models (setup.py) ... \u001b[?25l\u001b[?25hdone\n",
            "  Created wheel for face-recognition-models: filename=face_recognition_models-0.3.0-py2.py3-none-any.whl size=100566186 sha256=ef5bbd0512eb06ec2bbf7f4de469c13c1eb71ca6f67955706a31afabe8406897\n",
            "  Stored in directory: /root/.cache/pip/wheels/d6/81/3c/884bcd5e1c120ff548d57c2ecc9ebf3281c9a6f7c0e7e7947a\n",
            "Successfully built face-recognition-models\n",
            "Installing collected packages: face-recognition-models, face-recognition\n",
            "Successfully installed face-recognition-1.3.0 face-recognition-models-0.3.0\n",
            "Collecting tensorflow_addons\n",
            "  Downloading tensorflow_addons-0.16.1-cp37-cp37m-manylinux_2_12_x86_64.manylinux2010_x86_64.whl (1.1 MB)\n",
            "\u001b[K     |████████████████████████████████| 1.1 MB 3.8 MB/s \n",
            "\u001b[?25hRequirement already satisfied: typeguard>=2.7 in /usr/local/lib/python3.7/dist-packages (from tensorflow_addons) (2.7.1)\n",
            "Installing collected packages: tensorflow-addons\n",
            "Successfully installed tensorflow-addons-0.16.1\n"
          ]
        }
      ]
    },
    {
      "cell_type": "code",
      "execution_count": 2,
      "metadata": {
        "id": "MySU64lElO3e"
      },
      "outputs": [],
      "source": [
        "import cv2\n",
        "import os\n",
        "import numpy as np\n",
        "from imutils import paths\n",
        "import matplotlib.pyplot as plt\n",
        "import pickle\n",
        "from sklearn.model_selection import train_test_split\n",
        "from sklearn.metrics.pairwise import cosine_similarity\n",
        "from sklearn.metrics import accuracy_score\n",
        "\n",
        "from face_recognition import face_locations\n",
        "\n",
        "#tripple_lost_function\n",
        "import tensorflow_addons as tfa\n",
        "from tensorflow.keras.preprocessing.image import ImageDataGenerator\n",
        "\n",
        "#for training model\n",
        "import tensorflow as tf\n",
        "from tensorflow.keras.layers import Dense, Lambda, Flatten\n",
        "from tensorflow.keras.models import Model\n",
        "from tensorflow.keras.optimizers import Adam\n",
        "from tensorflow.keras.applications import VGG16\n",
        "\n",
        "#for JS draw\n",
        "from IPython.display import display, Javascript, Image\n",
        "from google.colab.output import eval_js\n",
        "from base64 import b64decode, b64encode\n",
        "import base64\n",
        "import PIL\n",
        "import io\n",
        "import html\n",
        "import time\n",
        "from PIL import Image\n",
        "import cv2\n",
        "from scipy import spatial"
      ]
    },
    {
      "cell_type": "markdown",
      "source": [
        "#Model built-in"
      ],
      "metadata": {
        "id": "s9pIw256UnRV"
      }
    },
    {
      "cell_type": "code",
      "source": [
        "from google.colab import drive\n",
        "drive.mount('/content/drive')"
      ],
      "metadata": {
        "colab": {
          "base_uri": "https://localhost:8080/"
        },
        "id": "m5lYOLjSlnUR",
        "outputId": "deb397c2-36fd-4af1-8bab-759ad5761163"
      },
      "execution_count": 3,
      "outputs": [
        {
          "output_type": "stream",
          "name": "stdout",
          "text": [
            "Mounted at /content/drive\n"
          ]
        }
      ]
    },
    {
      "cell_type": "markdown",
      "source": [
        "**Load dataset**"
      ],
      "metadata": {
        "id": "uGyMRfsPmO3x"
      }
    },
    {
      "cell_type": "code",
      "source": [
        "path_dataset = \"/content/drive/MyDrive/face_recognition/FacenetDataset.zip\"\n",
        "!unzip /content/drive/MyDrive/face_recognition/FacenetDataset.zip -d /content/"
      ],
      "metadata": {
        "id": "-f6RTmBql01c",
        "colab": {
          "base_uri": "https://localhost:8080/"
        },
        "outputId": "c2628abe-79c1-4c5e-be49-05fa61cc885d"
      },
      "execution_count": 4,
      "outputs": [
        {
          "output_type": "stream",
          "name": "stdout",
          "text": [
            "Archive:  /content/drive/MyDrive/face_recognition/FacenetDataset.zip\n",
            "   creating: /content/FacenetDataset/\n",
            "  inflating: /content/__MACOSX/._FacenetDataset  \n",
            "  inflating: /content/FacenetDataset/.DS_Store  \n",
            "  inflating: /content/__MACOSX/FacenetDataset/._.DS_Store  \n",
            "   creating: /content/FacenetDataset/Phong/\n",
            "  inflating: /content/__MACOSX/FacenetDataset/._Phong  \n",
            "   creating: /content/FacenetDataset/Hellas/\n",
            "  inflating: /content/__MACOSX/FacenetDataset/._Hellas  \n",
            "   creating: /content/FacenetDataset/Nguyen/\n",
            "  inflating: /content/__MACOSX/FacenetDataset/._Nguyen  \n",
            "   creating: /content/FacenetDataset/Huy/\n",
            "  inflating: /content/__MACOSX/FacenetDataset/._Huy  \n",
            "   creating: /content/FacenetDataset/Phu/\n",
            "  inflating: /content/__MACOSX/FacenetDataset/._Phu  \n",
            "  inflating: /content/FacenetDataset/Phong/8.jpg  \n",
            "  inflating: /content/FacenetDataset/Phong/9.jpg  \n",
            "  inflating: /content/FacenetDataset/Phong/14.jpg  \n",
            "  inflating: /content/FacenetDataset/Phong/28.jpg  \n",
            "  inflating: /content/FacenetDataset/Phong/29.jpg  \n",
            "  inflating: /content/FacenetDataset/Phong/15.jpg  \n",
            "  inflating: /content/FacenetDataset/Phong/17.jpg  \n",
            "  inflating: /content/FacenetDataset/Phong/script_rename.py  \n",
            "  inflating: /content/__MACOSX/FacenetDataset/Phong/._script_rename.py  \n",
            "  inflating: /content/FacenetDataset/Phong/16.jpg  \n",
            "  inflating: /content/FacenetDataset/Phong/12.jpg  \n",
            "  inflating: /content/FacenetDataset/Phong/11.jpg  \n",
            "  inflating: /content/FacenetDataset/Phong/10.jpg  \n",
            "  inflating: /content/FacenetDataset/Phong/21.jpg  \n",
            "  inflating: /content/FacenetDataset/Phong/34.jpg  \n",
            "  inflating: /content/FacenetDataset/Phong/20.jpg  \n",
            "  inflating: /content/FacenetDataset/Phong/22.jpg  \n",
            "  inflating: /content/FacenetDataset/Phong/23.jpg  \n",
            "  inflating: /content/FacenetDataset/Phong/33.jpg  \n",
            "  inflating: /content/FacenetDataset/Phong/27.jpg  \n",
            "  inflating: /content/FacenetDataset/Phong/26.jpg  \n",
            "  inflating: /content/FacenetDataset/Phong/32.jpg  \n",
            "  inflating: /content/FacenetDataset/Phong/18.jpg  \n",
            "  inflating: /content/FacenetDataset/Phong/24.jpg  \n",
            "  inflating: /content/FacenetDataset/Phong/30.jpg  \n",
            "  inflating: /content/FacenetDataset/Phong/31.jpg  \n",
            "  inflating: /content/FacenetDataset/Phong/25.jpg  \n",
            "  inflating: /content/FacenetDataset/Phong/19.jpg  \n",
            "  inflating: /content/FacenetDataset/Phong/4.jpg  \n",
            "  inflating: /content/FacenetDataset/Phong/5.jpg  \n",
            "  inflating: /content/FacenetDataset/Phong/7.jpg  \n",
            "  inflating: /content/FacenetDataset/Phong/6.jpg  \n",
            "  inflating: /content/FacenetDataset/Phong/2.jpg  \n",
            "  inflating: /content/FacenetDataset/Phong/3.jpg  \n",
            "  inflating: /content/FacenetDataset/Phong/1.jpg  \n",
            "  inflating: /content/FacenetDataset/Hellas/z3340946351201_7b03fe2053ff3d4c519fd693e296431e.jpg  \n",
            "  inflating: /content/FacenetDataset/Hellas/z3340946392970_2fef845d299ec50f9bcd8b061fc8082e.jpg  \n",
            "  inflating: /content/FacenetDataset/Hellas/z3340946395036_69751dce00ad2907e48d2bb567846617.jpg  \n",
            "  inflating: /content/FacenetDataset/Hellas/z3340946337250_e2952e7c6f55d4130924103a4af7d69e.jpg  \n",
            "  inflating: /content/FacenetDataset/Hellas/z3340946345056_1dc53a628d2b5285b1e1706bce282eb0.jpg  \n",
            "  inflating: /content/FacenetDataset/Hellas/z3340946382101_d854b7eb32e3f6840487ed365c4363cd.jpg  \n",
            "  inflating: /content/FacenetDataset/Hellas/z3340946351946_71bf2fcba5ee8c5a340536307add03b3.jpg  \n",
            "  inflating: /content/FacenetDataset/Hellas/z3340946331843_f52d1fdf66443c20221366fe15e684de.jpg  \n",
            "  inflating: /content/FacenetDataset/Hellas/z3340946329487_0bc341657d4cd6e5f8c4a3cdced6a473.jpg  \n",
            "  inflating: /content/FacenetDataset/Hellas/z3340946320295_903d7490fc28499652fb1db63c8139ca.jpg  \n",
            "  inflating: /content/FacenetDataset/Hellas/z3340946370049_69a7fa78763299b3ce96902cd841dddd.jpg  \n",
            "  inflating: /content/FacenetDataset/Hellas/z3340946337997_7cc8336b72385b95bbbe45e76f3850b0.jpg  \n",
            "  inflating: /content/FacenetDataset/Hellas/z3340946339595_6147f2270ceeab8fe6e450bc020eb428.jpg  \n",
            "  inflating: /content/FacenetDataset/Hellas/script_rename.py  \n",
            "  inflating: /content/__MACOSX/FacenetDataset/Hellas/._script_rename.py  \n",
            "  inflating: /content/FacenetDataset/Hellas/z3340946364863_64f4fa3b17ba38ca25eac6a04d0a4d76.jpg  \n",
            "  inflating: /content/FacenetDataset/Hellas/z3340946380040_19e4255a062d7b9e8f20b794c1e44109.jpg  \n",
            "  inflating: /content/FacenetDataset/Hellas/z3340946352121_e7b6fa28181f9754e872351bad0612ce.jpg  \n",
            "  inflating: /content/FacenetDataset/Hellas/z3340946344703_e42b358933493ae9cb5865b7cfd3c841.jpg  \n",
            "  inflating: /content/FacenetDataset/Hellas/z3340946388448_a594ff6fd4117380695f4ae5be89229b.jpg  \n",
            "  inflating: /content/FacenetDataset/Hellas/z3340946362560_837363a994db83ca8273f48b8171737f.jpg  \n",
            "  inflating: /content/FacenetDataset/Hellas/z3340946369194_17e954000bef9958dbc01bf188d61370.jpg  \n",
            "  inflating: /content/FacenetDataset/Hellas/z3340946375073_3e74522e72dd953a20d1feb6776864b0.jpg  \n",
            "  inflating: /content/FacenetDataset/Hellas/z3340946357038_65e005498d95bed1ebf6f6923ebfc0a1.jpg  \n",
            "  inflating: /content/FacenetDataset/Hellas/z3340946396871_66139e019ebdc7bd95532720f9e9d852.jpg  \n",
            "  inflating: /content/FacenetDataset/Hellas/z3340946477746_e065bc9a249071241c5e65d37b2f1127.jpg  \n",
            "  inflating: /content/FacenetDataset/Hellas/z3340946363323_952948f29ecda87e075534f1173d164a.jpg  \n",
            "  inflating: /content/FacenetDataset/Hellas/z3340946358065_ce2b05724ed5e25212c73b4cfffd528a.jpg  \n",
            "  inflating: /content/FacenetDataset/Hellas/z3340946322989_55b6073bf74e82bd388e8cc5f61c4928.jpg  \n",
            "  inflating: /content/FacenetDataset/Hellas/z3340946376392_37b9ac19fe447598bd669f2bf0f75b3b.jpg  \n",
            "  inflating: /content/FacenetDataset/Hellas/z3340946330772_f1198bec1275bcdffe6965a8407737ec.jpg  \n",
            "  inflating: /content/FacenetDataset/Hellas/z3340946384632_9d1963df7388b11c2d8de74d8636a968.jpg  \n",
            "  inflating: /content/FacenetDataset/Nguyen/.DS_Store  \n",
            "  inflating: /content/__MACOSX/FacenetDataset/Nguyen/._.DS_Store  \n",
            "  inflating: /content/FacenetDataset/Nguyen/8.jpg  \n",
            "  inflating: /content/FacenetDataset/Nguyen/9.jpg  \n",
            "  inflating: /content/FacenetDataset/Nguyen/14.jpg  \n",
            "  inflating: /content/__MACOSX/FacenetDataset/Nguyen/._14.jpg  \n",
            "  inflating: /content/FacenetDataset/Nguyen/28.jpg  \n",
            "  inflating: /content/FacenetDataset/Nguyen/29.jpg  \n",
            "  inflating: /content/FacenetDataset/Nguyen/15.jpg  \n",
            "  inflating: /content/FacenetDataset/Nguyen/17.jpg  \n",
            "  inflating: /content/FacenetDataset/Nguyen/script_rename.py  \n",
            "  inflating: /content/FacenetDataset/Nguyen/16.jpg  \n",
            "  inflating: /content/FacenetDataset/Nguyen/12.jpg  \n",
            "  inflating: /content/FacenetDataset/Nguyen/13.jpg  \n",
            "  inflating: /content/FacenetDataset/Nguyen/10.jpg  \n",
            "  inflating: /content/FacenetDataset/Nguyen/21.jpg  \n",
            "  inflating: /content/FacenetDataset/Nguyen/20.jpg  \n",
            "  inflating: /content/FacenetDataset/Nguyen/22.jpg  \n",
            "  inflating: /content/FacenetDataset/Nguyen/23.jpg  \n",
            "  inflating: /content/FacenetDataset/Nguyen/27.jpg  \n",
            "  inflating: /content/FacenetDataset/Nguyen/26.jpg  \n",
            "  inflating: /content/FacenetDataset/Nguyen/18.jpg  \n",
            "  inflating: /content/FacenetDataset/Nguyen/24.jpg  \n",
            "  inflating: /content/FacenetDataset/Nguyen/30.jpg  \n",
            "  inflating: /content/FacenetDataset/Nguyen/31.jpg  \n",
            "  inflating: /content/FacenetDataset/Nguyen/25.jpg  \n",
            "  inflating: /content/FacenetDataset/Nguyen/19.jpg  \n",
            "  inflating: /content/FacenetDataset/Nguyen/4.jpg  \n",
            "  inflating: /content/FacenetDataset/Nguyen/5.jpg  \n",
            "  inflating: /content/FacenetDataset/Nguyen/7.jpg  \n",
            "  inflating: /content/FacenetDataset/Nguyen/6.jpg  \n",
            "  inflating: /content/FacenetDataset/Nguyen/2.jpg  \n",
            "  inflating: /content/FacenetDataset/Nguyen/3.jpg  \n",
            "  inflating: /content/FacenetDataset/Nguyen/1.jpg  \n",
            "  inflating: /content/FacenetDataset/Huy/8.jpg  \n",
            "  inflating: /content/FacenetDataset/Huy/9.jpg  \n",
            "  inflating: /content/FacenetDataset/Huy/14.jpg  \n",
            "  inflating: /content/FacenetDataset/Huy/28.jpg  \n",
            "  inflating: /content/FacenetDataset/Huy/29.jpg  \n",
            "  inflating: /content/FacenetDataset/Huy/15.jpg  \n",
            "  inflating: /content/FacenetDataset/Huy/17.jpg  \n",
            "  inflating: /content/FacenetDataset/Huy/script_rename.py  \n",
            "  inflating: /content/__MACOSX/FacenetDataset/Huy/._script_rename.py  \n",
            "  inflating: /content/FacenetDataset/Huy/12.jpg  \n",
            "  inflating: /content/FacenetDataset/Huy/13.jpg  \n",
            "  inflating: /content/FacenetDataset/Huy/11.jpg  \n",
            "  inflating: /content/FacenetDataset/Huy/10.jpg  \n",
            "  inflating: /content/FacenetDataset/Huy/21.jpg  \n",
            "  inflating: /content/FacenetDataset/Huy/20.jpg  \n",
            "  inflating: /content/FacenetDataset/Huy/22.jpg  \n",
            "  inflating: /content/FacenetDataset/Huy/23.jpg  \n",
            "  inflating: /content/FacenetDataset/Huy/27.jpg  \n",
            "  inflating: /content/FacenetDataset/Huy/26.jpg  \n",
            "  inflating: /content/FacenetDataset/Huy/18.jpg  \n",
            "  inflating: /content/FacenetDataset/Huy/24.jpg  \n",
            "  inflating: /content/FacenetDataset/Huy/30.jpg  \n",
            "  inflating: /content/FacenetDataset/Huy/31.jpg  \n",
            "  inflating: /content/FacenetDataset/Huy/25.jpg  \n",
            "  inflating: /content/FacenetDataset/Huy/19.jpg  \n",
            "  inflating: /content/FacenetDataset/Huy/4.jpg  \n",
            "  inflating: /content/FacenetDataset/Huy/5.jpg  \n",
            "  inflating: /content/FacenetDataset/Huy/7.jpg  \n",
            "  inflating: /content/FacenetDataset/Huy/6.jpg  \n",
            "  inflating: /content/FacenetDataset/Huy/2.jpg  \n",
            "  inflating: /content/FacenetDataset/Huy/3.jpg  \n",
            "  inflating: /content/FacenetDataset/Huy/1.jpg  \n",
            "  inflating: /content/FacenetDataset/Phu/8.jpg  \n",
            "  inflating: /content/FacenetDataset/Phu/9.jpg  \n",
            "  inflating: /content/FacenetDataset/Phu/14.jpg  \n",
            "  inflating: /content/FacenetDataset/Phu/28.jpg  \n",
            "  inflating: /content/FacenetDataset/Phu/29.jpg  \n",
            "  inflating: /content/FacenetDataset/Phu/15.jpg  \n",
            "  inflating: /content/FacenetDataset/Phu/17.jpg  \n",
            "  inflating: /content/FacenetDataset/Phu/script_rename.py  \n",
            "  inflating: /content/__MACOSX/FacenetDataset/Phu/._script_rename.py  \n",
            "  inflating: /content/FacenetDataset/Phu/16.jpg  \n",
            "  inflating: /content/FacenetDataset/Phu/13.jpg  \n",
            "  inflating: /content/FacenetDataset/Phu/11.jpg  \n",
            "  inflating: /content/FacenetDataset/Phu/10.jpg  \n",
            "  inflating: /content/FacenetDataset/Phu/21.jpg  \n",
            "  inflating: /content/FacenetDataset/Phu/20.jpg  \n",
            "  inflating: /content/FacenetDataset/Phu/22.jpg  \n",
            "  inflating: /content/FacenetDataset/Phu/23.jpg  \n",
            "  inflating: /content/FacenetDataset/Phu/27.jpg  \n",
            "  inflating: /content/FacenetDataset/Phu/26.jpg  \n",
            "  inflating: /content/FacenetDataset/Phu/18.jpg  \n",
            "  inflating: /content/FacenetDataset/Phu/24.jpg  \n",
            "  inflating: /content/FacenetDataset/Phu/30.jpg  \n",
            "  inflating: /content/FacenetDataset/Phu/31.jpg  \n",
            "  inflating: /content/FacenetDataset/Phu/25.jpg  \n",
            "  inflating: /content/FacenetDataset/Phu/19.jpg  \n",
            "  inflating: /content/FacenetDataset/Phu/4.jpg  \n",
            "  inflating: /content/FacenetDataset/Phu/5.jpg  \n",
            "  inflating: /content/FacenetDataset/Phu/7.jpg  \n",
            "  inflating: /content/FacenetDataset/Phu/6.jpg  \n",
            "  inflating: /content/FacenetDataset/Phu/2.jpg  \n",
            "  inflating: /content/FacenetDataset/Phu/3.jpg  \n",
            "  inflating: /content/FacenetDataset/Phu/1.jpg  \n"
          ]
        }
      ]
    },
    {
      "cell_type": "code",
      "source": [
        "!git clone https://github.com/pyannote/pyannote-data"
      ],
      "metadata": {
        "colab": {
          "base_uri": "https://localhost:8080/"
        },
        "id": "4L99H1G9mmTg",
        "outputId": "58ebd5a0-c96e-47bc-cbbe-d51d2565ba8a"
      },
      "execution_count": 5,
      "outputs": [
        {
          "output_type": "stream",
          "name": "stdout",
          "text": [
            "Cloning into 'pyannote-data'...\n",
            "remote: Enumerating objects: 47, done.\u001b[K\n",
            "remote: Counting objects: 100% (28/28), done.\u001b[K\n",
            "remote: Compressing objects: 100% (24/24), done.\u001b[K\n",
            "remote: Total 47 (delta 0), reused 27 (delta 0), pack-reused 19\u001b[K\n",
            "Unpacking objects: 100% (47/47), done.\n"
          ]
        }
      ]
    },
    {
      "cell_type": "markdown",
      "source": [
        "**Global Variable**"
      ],
      "metadata": {
        "id": "DDThtErym4i0"
      }
    },
    {
      "cell_type": "code",
      "source": [
        "dataset_path = \"/content/FacenetDataset\"\n",
        "model_path = \"/content/pyannote-data/openface.nn4.small2.v1.t7\""
      ],
      "metadata": {
        "id": "fOXhsSwcmnfo"
      },
      "execution_count": 12,
      "outputs": []
    },
    {
      "cell_type": "markdown",
      "source": [
        "**Model**"
      ],
      "metadata": {
        "id": "kwpCGojJnPEy"
      }
    },
    {
      "cell_type": "code",
      "source": [
        "def _load_torch(model_path_fl):\n",
        "    model = cv2.dnn.readNetFromTorch(model_path_fl)\n",
        "    return model\n",
        "\n",
        "encoder = _load_torch(model_path)\n",
        "\n",
        "def _image_read(image_path):\n",
        "    image = cv2.imread(image_path)\n",
        "    image = cv2.cvtColor(image, cv2.COLOR_BGR2RGB)\n",
        "    return image\n",
        "\n",
        "def _extract_bbox(image, single = True):\n",
        "    bboxs = face_locations(image)\n",
        "    if len(bboxs)==0:\n",
        "      return None\n",
        "    if single:\n",
        "      bbox = bboxs[0]\n",
        "      return bbox\n",
        "    else:\n",
        "      return bboxs\n",
        "\n",
        "def _extract_face(image, bbox, face_scale_thres = (20, 20)):\n",
        "      h, w = image.shape[:2]\n",
        "      try:\n",
        "        (startX, startY, endX, endY) = bbox\n",
        "      except:\n",
        "        return None\n",
        "      minX, maxX = min(startX, endX), max(startX, endX)\n",
        "      minY, maxY = min(startY, endY), max(startY, endY)\n",
        "      face = image[minY:maxY, minX:maxX].copy()\n",
        "      # extract the face ROI and grab the ROI dimensions\n",
        "      (fH, fW) = face.shape[:2]\n",
        "      print(fH,fW)\n",
        "      # ensure the face width and height are sufficiently large\n",
        "      if fW < face_scale_thres[0] or fH < face_scale_thres[1]:\n",
        "        return None\n",
        "      else:\n",
        "        return face\n",
        "\n",
        "import cv2\n",
        "\n",
        "def _blobImage(image, out_size = (300, 300), scaleFactor = 1.0, mean = (104.0, 177.0, 123.0)):\n",
        "    imageBlob = cv2.dnn.blobFromImage(image, \n",
        "                                      scalefactor=scaleFactor,   \n",
        "                                      size=out_size,  \n",
        "                                      mean=mean,  \n",
        "                                      swapRB=False,\n",
        "                                      crop=False)\n",
        "    return imageBlob"
      ],
      "metadata": {
        "id": "_S95-OQYnBGC"
      },
      "execution_count": 13,
      "outputs": []
    },
    {
      "cell_type": "code",
      "source": [
        "def _model_processing(face_scale_thres = (20, 20)):\n",
        "    image_links = list(paths.list_images(dataset_path))\n",
        "    # image_links = [\"/content/FacenetDataset/Phu/1.jpg\"]\n",
        "    images_file = [] \n",
        "    y_labels = []\n",
        "    faces = []\n",
        "    total = 0\n",
        "    for image_link in image_links:\n",
        "        split_img_links = image_link.split(\"/\")\n",
        "        if split_img_links[-1] == \"script_rename.py\":\n",
        "            continue\n",
        "        name = split_img_links[-2] \n",
        "        print(name)\n",
        "        image = _image_read(image_link)\n",
        "        blob = cv2.dnn.blobFromImage(image, 1.0, (300, 300),(104.0, 177.0, 123.0))\n",
        "        FACEnet.setInput(blob)\n",
        "        detections = FACEnet.forward()\n",
        "        (h, w) = image.shape[:2]\n",
        "        # bbox =_extract_bbox(image, single=True)\n",
        "\n",
        "        for i in range(detections.shape[2]):\n",
        "            confidence = detections[0,0,i,2]\n",
        "            if confidence > 0.9:\n",
        "                box = detections[0, 0, i, 3:7] * np.array([w, h, w, h])\n",
        "                (startX, startY, endX, endY) = box.astype(\"int\")\n",
        "              \n",
        "                (startX, startY) = (max(0, startX), max(0, startY))\n",
        "                (endX, endY) = (min(w - 1, endX), min(h - 1, endY))\n",
        "                face = image[startY:endY, startX:endX]\n",
        "                if face.shape[0] != 0 and face.shape[1] != 0:\n",
        "                    face = cv2.cvtColor(_blobImage(face), cv2.COLOR_BGR2RGB)\n",
        "                    # face = cv2.resize(face, (300, 112))\n",
        "                    faces.append(face)\n",
        "                    y_labels.append(name)\n",
        "                    images_file.append(image_links)\n",
        "                    total += 1\n",
        "    print(\"Total bbox face extracted: {}\".format(total))\n",
        "    return faces, y_labels, images_file"
      ],
      "metadata": {
        "id": "6t23uomdnYwW"
      },
      "execution_count": null,
      "outputs": []
    },
    {
      "cell_type": "code",
      "source": [
        "test_face = \"/content/FacenetDataset/Phu/1.jpg\"\n",
        "image = _image_read(test_face)\n",
        "bbox = _extract_bbox(image)\n",
        "face = _extract_face(image, bbox)\n",
        "\n",
        "plt.axis(\"off\")\n",
        "plt.imshow(face)"
      ],
      "metadata": {
        "colab": {
          "base_uri": "https://localhost:8080/",
          "height": 283
        },
        "id": "9hOaJQrpp6yj",
        "outputId": "e703429e-0ff7-4405-ebb2-a096d699411c"
      },
      "execution_count": null,
      "outputs": [
        {
          "output_type": "stream",
          "name": "stdout",
          "text": [
            "1150 795\n"
          ]
        },
        {
          "output_type": "execute_result",
          "data": {
            "text/plain": [
              "<matplotlib.image.AxesImage at 0x7ff680c46690>"
            ]
          },
          "metadata": {},
          "execution_count": 120
        },
        {
          "output_type": "display_data",
          "data": {
            "text/plain": [
              "<Figure size 432x288 with 1 Axes>"
            ],
            "image/png": "[encoded data removed]"
          },
          "metadata": {
            "needs_background": "light"
          }
        }
      ]
    },
    {
      "cell_type": "code",
      "source": [
        "faces, y_labels, images_file = _model_processing()"
      ],
      "metadata": {
        "id": "DXv--DXaqYDW"
      },
      "execution_count": null,
      "outputs": []
    },
    {
      "cell_type": "code",
      "source": [
        "def _save_pickle(obj, file_path):\n",
        "  with open(file_path, 'wb') as f:\n",
        "    pickle.dump(obj, f)\n",
        "\n",
        "def _load_pickle(file_path):\n",
        "  with open(file_path, 'rb') as f:\n",
        "    obj = pickle.load(f)\n",
        "  return obj"
      ],
      "metadata": {
        "id": "IaXC1sPseW2p"
      },
      "execution_count": 6,
      "outputs": []
    },
    {
      "cell_type": "code",
      "source": [
        "path_pickle = \"/content/drive/MyDrive/face_recognition/pickle_file\"\n",
        "\n",
        "_save_pickle(faces, path_pickle + \"/faces.pkl\")\n",
        "_save_pickle(y_labels, path_pickle + \"/y_labels.pkl\")\n",
        "_save_pickle(images_file, path_pickle + \"/images_file.pkl\")"
      ],
      "metadata": {
        "id": "nSjlq4gZr1UB"
      },
      "execution_count": null,
      "outputs": []
    },
    {
      "cell_type": "code",
      "source": [
        "path_pickle = \"/content/drive/MyDrive/face_recognition/pickle_file\"\n",
        "\n",
        "faces = _load_pickle(path_pickle + \"/faces.pkl\")\n",
        "y_labels = _load_pickle(path_pickle + \"/y_labels.pkl\")\n",
        "image_file = _load_pickle(path_pickle + \"/images_file.pkl\")"
      ],
      "metadata": {
        "id": "NO6MUdJ8eRpW"
      },
      "execution_count": 9,
      "outputs": []
    },
    {
      "cell_type": "markdown",
      "source": [
        "**Embedding_space**"
      ],
      "metadata": {
        "id": "3NpqmDZ65Oex"
      }
    },
    {
      "cell_type": "code",
      "source": [
        "def _embedding_faces(encoder, faces):\n",
        "    emb_vecs = []\n",
        "    for face in faces:\n",
        "      faceBlob = _blobImage(face, out_size = (96, 96), scaleFactor=1/255.0, mean=(0, 0, 0))\n",
        "      # Embedding face\n",
        "      encoder.setInput(faceBlob)\n",
        "      vec = encoder.forward()\n",
        "      emb_vecs.append(vec)\n",
        "    return emb_vecs\n",
        "\n",
        "embed_faces = _embedding_faces(encoder, faces)\n",
        "_save_pickle(embed_faces, path_pickle + \"/embed_blob_faces.pkl\")"
      ],
      "metadata": {
        "id": "TIHu7CbJursb"
      },
      "execution_count": 14,
      "outputs": []
    },
    {
      "cell_type": "markdown",
      "source": [
        "**Load embedding space**"
      ],
      "metadata": {
        "id": "B0oXZWce5qwc"
      }
    },
    {
      "cell_type": "code",
      "source": [
        "embed_faces = _load_pickle(path_pickle + \"/embed_blob_faces.pkl\")\n",
        "y_labels = _load_pickle(path_pickle + \"/y_labels.pkl\")\n",
        "\n",
        "ids = np.arange(len(y_labels))\n",
        "X_train, X_test, y_train, y_test, id_train, id_test = train_test_split(np.stack(embed_faces), y_labels, ids, test_size = 0.2, stratify = y_labels)\n",
        "X_train = np.squeeze(X_train, axis = 1)\n",
        "X_test = np.squeeze(X_test, axis = 1)\n",
        "print(X_train.shape, X_test.shape)\n",
        "print(len(y_train), len(y_test))"
      ],
      "metadata": {
        "colab": {
          "base_uri": "https://localhost:8080/"
        },
        "id": "4MZ6wMyJ5pAO",
        "outputId": "5d9f589e-c7b6-4023-af41-6e3d611ee2b3"
      },
      "execution_count": 15,
      "outputs": [
        {
          "output_type": "stream",
          "name": "stdout",
          "text": [
            "(155, 128) (39, 128)\n",
            "155 39\n"
          ]
        }
      ]
    },
    {
      "cell_type": "code",
      "source": [
        "_save_pickle(id_train, \"./id_train.pkl\")\n",
        "_save_pickle(id_test, \"./id_test.pkl\")"
      ],
      "metadata": {
        "id": "rUY7fw7Z6L_6"
      },
      "execution_count": 16,
      "outputs": []
    },
    {
      "cell_type": "markdown",
      "source": [
        "**Helper Function**"
      ],
      "metadata": {
        "id": "h-YzzNmK7MBN"
      }
    },
    {
      "cell_type": "code",
      "source": [
        "def _most_similarity(embed_vecs, vec, labels):\n",
        "    sim = cosine_similarity(embed_vecs, vec)\n",
        "    sim = np.squeeze(sim, axis = 1)\n",
        "    argmax = np.argsort(sim)[::-1][:1]\n",
        "    if sim[argmax[0]] < 0:\n",
        "       return \"unknown\"\n",
        "    label = [labels[idx] for idx in argmax][0]\n",
        "    return label"
      ],
      "metadata": {
        "id": "TU-IG0F47Dcr"
      },
      "execution_count": 17,
      "outputs": []
    },
    {
      "cell_type": "code",
      "source": [
        "#test accuracy for pretrain model\n",
        "\n",
        "y_preds = []\n",
        "for vec in X_test:\n",
        "    vec = vec.reshape(1,-1)\n",
        "    y_preds.append(_most_similarity(X_train,vec,y_train))\n",
        "\n",
        "print(accuracy_score(y_preds,y_test))"
      ],
      "metadata": {
        "colab": {
          "base_uri": "https://localhost:8080/"
        },
        "id": "0NvEElSZ7hD-",
        "outputId": "6eb2ecc8-155c-49b4-9dab-c32b6cff446e"
      },
      "execution_count": 18,
      "outputs": [
        {
          "output_type": "stream",
          "name": "stdout",
          "text": [
            "0.9230769230769231\n"
          ]
        }
      ]
    },
    {
      "cell_type": "markdown",
      "source": [
        "**TripleLost Definition**"
      ],
      "metadata": {
        "id": "L8fI5sRS_c5O"
      }
    },
    {
      "cell_type": "code",
      "source": [
        "def _base_network():\n",
        "    model = VGG16(include_top = True, weights = None, input_tensor=tf.keras.layers.Input(shape=(224, 224, 3)))\n",
        "    dense = Dense(128)(model.layers[-4].output)\n",
        "    norm2 = Lambda(lambda x: tf.math.l2_normalize(x, axis = 1))(dense)\n",
        "    model = Model(inputs = [model.input], outputs = [norm2])\n",
        "    return model\n",
        "\n",
        "model = _base_network()\n",
        "model.summary()\n",
        "\n",
        "model.compile(\n",
        "    optimizer=tf.keras.optimizers.Adam(0.001),\n",
        "    loss=tfa.losses.TripletSemiHardLoss())"
      ],
      "metadata": {
        "id": "F_TnDIc3_Wvr"
      },
      "execution_count": null,
      "outputs": []
    },
    {
      "cell_type": "code",
      "source": [
        "faces = _load_pickle(path_pickle + \"/faces.pkl\")\n",
        "\n",
        "faceResizes = []\n",
        "for face in faces:\n",
        "    faceResize = cv2.resize(face,(224,224))\n",
        "    faceResizes.append(faceResize)\n",
        "\n",
        "X = np.stack(faceResizes)\n",
        "X.shape"
      ],
      "metadata": {
        "colab": {
          "base_uri": "https://localhost:8080/"
        },
        "id": "UUcNusdeARvU",
        "outputId": "dcb81adc-2aab-4bab-ad95-537d2f78faa9"
      },
      "execution_count": 20,
      "outputs": [
        {
          "output_type": "execute_result",
          "data": {
            "text/plain": [
              "(194, 224, 224, 3)"
            ]
          },
          "metadata": {},
          "execution_count": 20
        }
      ]
    },
    {
      "cell_type": "code",
      "source": [
        "id_train = _load_pickle(\"./id_train.pkl\")\n",
        "id_test = _load_pickle(\"./id_test.pkl\")\n",
        "\n",
        "X_train, X_test = X[id_train], X[id_test]\n",
        "\n",
        "print(X_train.shape)\n",
        "print(X_test.shape)"
      ],
      "metadata": {
        "colab": {
          "base_uri": "https://localhost:8080/"
        },
        "id": "fknFQSrQBgmP",
        "outputId": "f2778086-e42a-4ec3-e70c-d9f710a74d98"
      },
      "execution_count": 21,
      "outputs": [
        {
          "output_type": "stream",
          "name": "stdout",
          "text": [
            "(155, 224, 224, 3)\n",
            "(39, 224, 224, 3)\n"
          ]
        }
      ]
    },
    {
      "cell_type": "markdown",
      "source": [
        "**ModelFacenet**"
      ],
      "metadata": {
        "id": "IhBbdm5xLbxm"
      }
    },
    {
      "cell_type": "code",
      "source": [
        "!git clone https://github.com/gopinath-balu/computer_vision\n",
        "\n",
        "config_path = \"/content/computer_vision/CAFFE_DNN/deploy.prototxt.txt\"\n",
        "weight_path = \"/content/computer_vision/CAFFE_DNN/res10_300x300_ssd_iter_140000.caffemodel\"\n",
        "\n",
        "FACEnet = cv2.dnn.readNet(config_path,weight_path)"
      ],
      "metadata": {
        "colab": {
          "base_uri": "https://localhost:8080/"
        },
        "id": "cxN6e-Z5LdVV",
        "outputId": "dcd9c400-872a-4f55-86ee-d38a9f0ad11a"
      },
      "execution_count": 22,
      "outputs": [
        {
          "output_type": "stream",
          "name": "stdout",
          "text": [
            "Cloning into 'computer_vision'...\n",
            "remote: Enumerating objects: 13, done.\u001b[K\n",
            "remote: Counting objects: 100% (6/6), done.\u001b[K\n",
            "remote: Compressing objects: 100% (4/4), done.\u001b[K\n",
            "remote: Total 13 (delta 0), reused 6 (delta 0), pack-reused 7\u001b[K\n",
            "Unpacking objects: 100% (13/13), done.\n"
          ]
        }
      ]
    },
    {
      "cell_type": "markdown",
      "source": [
        "**Data augumentation**"
      ],
      "metadata": {
        "id": "smV4cqiTDUnS"
      }
    },
    {
      "cell_type": "code",
      "source": [
        "datagen = ImageDataGenerator(\n",
        "    featurewise_center=True,\n",
        "    featurewise_std_normalization=True,\n",
        "    rotation_range=20,\n",
        "    width_shift_range=0.2,\n",
        "    height_shift_range=0.2,\n",
        "    horizontal_flip=True)\n",
        "\n",
        "datagen.fit(X_train)"
      ],
      "metadata": {
        "id": "S2ZgwGm4DWRy"
      },
      "execution_count": 23,
      "outputs": []
    },
    {
      "cell_type": "code",
      "source": [
        "no_batch = 0\n",
        "X_au = []\n",
        "y_au = []\n",
        "for i in np.arange(len(X_train)):\n",
        "  no_img = 0\n",
        "  for x in datagen.flow(np.expand_dims(X_train[i], axis = 0), batch_size = 1):\n",
        "    X_au.append(x[0])\n",
        "    y_au.append(y_train[i])\n",
        "    no_img += 1\n",
        "    if no_img == 5:\n",
        "      break"
      ],
      "metadata": {
        "id": "ck4SxzymDe92"
      },
      "execution_count": 24,
      "outputs": []
    },
    {
      "cell_type": "code",
      "source": [
        "gen_train = tf.data.Dataset.from_tensor_slices((X_au, y_au)).repeat().shuffle(1024).batch(64)\n",
        "gen_train"
      ],
      "metadata": {
        "id": "wyzY4_0REPls",
        "colab": {
          "base_uri": "https://localhost:8080/"
        },
        "outputId": "e9cce5f0-d3fc-469c-b831-e73f25e7cc32"
      },
      "execution_count": 25,
      "outputs": [
        {
          "output_type": "execute_result",
          "data": {
            "text/plain": [
              "<BatchDataset element_spec=(TensorSpec(shape=(None, 224, 224, 3), dtype=tf.float32, name=None), TensorSpec(shape=(None,), dtype=tf.string, name=None))>"
            ]
          },
          "metadata": {},
          "execution_count": 25
        }
      ]
    },
    {
      "cell_type": "code",
      "source": [
        "history = model.fit(\n",
        "    gen_train,\n",
        "    steps_per_epoch = 50,\n",
        "    epochs=10)"
      ],
      "metadata": {
        "id": "Ixo4kG4ABwIC",
        "colab": {
          "base_uri": "https://localhost:8080/"
        },
        "outputId": "32507fef-9ca2-46bc-b7d5-1d228beaad4a"
      },
      "execution_count": null,
      "outputs": [
        {
          "output_type": "stream",
          "name": "stdout",
          "text": [
            "Epoch 1/10\n",
            "45/50 [==========================>...] - ETA: 8s - loss: 0.9192 "
          ]
        }
      ]
    },
    {
      "cell_type": "code",
      "source": [
        "data_tf = ImageDataGenerator(\n",
        "    #featurewise_center=True,\n",
        "    #featurewise_std_normalization=True,\n",
        "    # rotation_range=20,\n",
        "    # width_shift_range=0.2,\n",
        "    # height_shift_range=0.2,\n",
        "    #horizontal_flip=True\n",
        "    )\n",
        "\n",
        "data_tf.fit(X_test)\n",
        "\n",
        "no_batch = 0\n",
        "X_test_tf = []\n",
        "for i in np.arange(len(X_test)):\n",
        "  no_img = 0\n",
        "  for x in data_tf.flow(np.expand_dims(X_test[i], axis = 0), batch_size = 1):\n",
        "    X_test_tf.append(x[0])\n",
        "    no_img += 1\n",
        "    if no_img == 1:\n",
        "      break\n",
        "\n",
        "X_train_vec = model.predict(np.stack(X_au))\n",
        "X_test_vec = model.predict(np.stack(X_test_tf))\n",
        "\n",
        "y_preds = []\n",
        "for vec in X_test_vec:\n",
        "  vec = vec.reshape(1, -1)\n",
        "  y_pred = _most_similarity(X_train_vec, vec, y_au)\n",
        "  y_preds.append(y_pred)\n",
        "\n",
        "print(accuracy_score(y_preds, y_test))"
      ],
      "metadata": {
        "id": "yPf7O4CsCshM",
        "colab": {
          "base_uri": "https://localhost:8080/"
        },
        "outputId": "0c9f135f-e30b-4e13-a0ee-921790aaae28"
      },
      "execution_count": null,
      "outputs": [
        {
          "output_type": "stream",
          "name": "stdout",
          "text": [
            "0.17857142857142858\n"
          ]
        }
      ]
    },
    {
      "cell_type": "code",
      "source": [
        "#facenet: https://colab.research.google.com/drive/1OTSK9mJdtpuzArCTsEKh5eIq5OmOyq2o\n",
        "def _normalize_image(image, epsilon=0.000001):\n",
        "    means = np.mean(image.reshape(-1, 3), axis=0)\n",
        "    stds = np.std(image.reshape(-1, 3), axis=0)\n",
        "    image_norm = image - means\n",
        "    image_norm = image_norm/(stds + epsilon)\n",
        "    return image_norm"
      ],
      "metadata": {
        "id": "QohxqNQINeeC"
      },
      "execution_count": null,
      "outputs": []
    },
    {
      "cell_type": "markdown",
      "source": [
        "**Streaming**"
      ],
      "metadata": {
        "id": "vyxcTnHpRCIw"
      }
    },
    {
      "cell_type": "code",
      "source": [
        "def start_input():\n",
        "  js = Javascript('''\n",
        "    var video;\n",
        "    var div = null;\n",
        "    var stream;\n",
        "    var captureCanvas;\n",
        "    var imgElement;\n",
        "    var labelElement;\n",
        "    \n",
        "    var pendingResolve = null;\n",
        "    var shutdown = false;\n",
        "    \n",
        "    function removeDom() {\n",
        "       stream.getVideoTracks()[0].stop();\n",
        "       video.remove();\n",
        "       div.remove();\n",
        "       video = null;\n",
        "       div = null;\n",
        "       stream = null;\n",
        "       imgElement = null;\n",
        "       captureCanvas = null;\n",
        "       labelElement = null;\n",
        "    }\n",
        "    \n",
        "    function onAnimationFrame() {\n",
        "      if (!shutdown) {\n",
        "        window.requestAnimationFrame(onAnimationFrame);\n",
        "      }\n",
        "      if (pendingResolve) {\n",
        "        var result = \"\";\n",
        "        if (!shutdown) {\n",
        "          captureCanvas.getContext('2d').drawImage(video, 0, 0, 512, 512);\n",
        "          result = captureCanvas.toDataURL('image/jpeg', 0.8)\n",
        "        }\n",
        "        var lp = pendingResolve;\n",
        "        pendingResolve = null;\n",
        "        lp(result);\n",
        "      }\n",
        "    }\n",
        "    \n",
        "    async function createDom() {\n",
        "      if (div !== null) {\n",
        "        return stream;\n",
        "      }\n",
        "\n",
        "      div = document.createElement('div');\n",
        "      div.style.border = '2px solid black';\n",
        "      div.style.padding = '3px';\n",
        "      div.style.width = '100%';\n",
        "      div.style.maxWidth = '600px';\n",
        "      document.body.appendChild(div);\n",
        "      \n",
        "      const modelOut = document.createElement('div');\n",
        "      modelOut.innerHTML = \"<span>Status:</span>\";\n",
        "      labelElement = document.createElement('span');\n",
        "      labelElement.innerText = 'No data';\n",
        "      labelElement.style.fontWeight = 'bold';\n",
        "      modelOut.appendChild(labelElement);\n",
        "      div.appendChild(modelOut);\n",
        "           \n",
        "      video = document.createElement('video');\n",
        "      video.style.display = 'block';\n",
        "      video.width = div.clientWidth - 6;\n",
        "      video.setAttribute('playsinline', '');\n",
        "      video.onclick = () => { shutdown = true; };\n",
        "      stream = await navigator.mediaDevices.getUserMedia(\n",
        "          {video: { facingMode: \"environment\"}});\n",
        "      div.appendChild(video);\n",
        "\n",
        "      imgElement = document.createElement('img');\n",
        "      imgElement.style.position = 'absolute';\n",
        "      imgElement.style.zIndex = 1;\n",
        "      imgElement.onclick = () => { shutdown = true; };\n",
        "      div.appendChild(imgElement);\n",
        "      \n",
        "      const instruction = document.createElement('div');\n",
        "      instruction.innerHTML = \n",
        "          '<span style=\"color: red; font-weight: bold;\">' +\n",
        "          'When finished, click here or on the video to stop this demo</span>';\n",
        "      div.appendChild(instruction);\n",
        "      instruction.onclick = () => { shutdown = true; };\n",
        "      \n",
        "      video.srcObject = stream;\n",
        "      await video.play();\n",
        "\n",
        "      captureCanvas = document.createElement('canvas');\n",
        "      captureCanvas.width = 512; //video.videoWidth;\n",
        "      captureCanvas.height = 512; //video.videoHeight;\n",
        "      window.requestAnimationFrame(onAnimationFrame);\n",
        "      \n",
        "      return stream;\n",
        "    }\n",
        "    async function takePhoto(label, imgData) {\n",
        "      if (shutdown) {\n",
        "        removeDom();\n",
        "        shutdown = false;\n",
        "        return '';\n",
        "      }\n",
        "\n",
        "      var preCreate = Date.now();\n",
        "      stream = await createDom();\n",
        "      \n",
        "      var preShow = Date.now();\n",
        "      if (label != \"\") {\n",
        "        labelElement.innerHTML = label;\n",
        "      }\n",
        "            \n",
        "      if (imgData != \"\") {\n",
        "        var videoRect = video.getClientRects()[0];\n",
        "        imgElement.style.top = videoRect.top + \"px\";\n",
        "        imgElement.style.left = videoRect.left + \"px\";\n",
        "        imgElement.style.width = videoRect.width + \"px\";\n",
        "        imgElement.style.height = videoRect.height + \"px\";\n",
        "        imgElement.src = imgData;\n",
        "      }\n",
        "      \n",
        "      var preCapture = Date.now();\n",
        "      var result = await new Promise(function(resolve, reject) {\n",
        "        pendingResolve = resolve;\n",
        "      });\n",
        "      shutdown = false;\n",
        "      \n",
        "      return {'create': preShow - preCreate, \n",
        "              'show': preCapture - preShow, \n",
        "              'capture': Date.now() - preCapture,\n",
        "              'img': result};\n",
        "    }\n",
        "    ''')\n",
        "\n",
        "  display(js)\n",
        "  \n",
        "def take_photo(label, img_data):\n",
        "  data = eval_js('takePhoto(\"{}\", \"{}\")'.format(label, img_data))\n",
        "  return data\n",
        "\n",
        "def js_reply_to_image(js_reply):\n",
        "    \"\"\"\n",
        "    input: \n",
        "          js_reply: JavaScript object, contain image from webcam\n",
        "\n",
        "    output: \n",
        "          image_array: image array RGB size 512 x 512 from webcam\n",
        "    \"\"\"\n",
        "    jpeg_bytes = base64.b64decode(js_reply['img'].split(',')[1])\n",
        "    image_PIL = Image.open(io.BytesIO(jpeg_bytes))\n",
        "    image_array = np.array(image_PIL)\n",
        "\n",
        "    return image_array\n",
        "\n",
        "def bbox_to_bytes(bbox_array):\n",
        "    \"\"\"\n",
        "    Params:\n",
        "            bbox_array: Numpy array (pixels) containing rectangle to overlay on video stream.\n",
        "    Returns:\n",
        "          bytes: Base64 image byte string\n",
        "    \"\"\"\n",
        "    # convert array into PIL image\n",
        "    bbox_PIL = PIL.Image.fromarray(bbox_array, 'RGBA')\n",
        "    iobuf = io.BytesIO()\n",
        "    # format bbox into png for return\n",
        "    bbox_PIL.save(iobuf, format='png')\n",
        "    # format return string\n",
        "    bbox_bytes = 'data:image/png;base64,{}'.format((str(b64encode(iobuf.getvalue()), 'utf-8')))\n",
        "\n",
        "    return bbox_bytes"
      ],
      "metadata": {
        "id": "6xboKSMaQoSO"
      },
      "execution_count": null,
      "outputs": []
    },
    {
      "cell_type": "code",
      "source": [
        "start_input()\n",
        "\n",
        "label_html = 'Capturing...'\n",
        "# initialze bounding box to empty\n",
        "bbox = ''\n",
        "count = 0 \n",
        "while True:\n",
        "    js_reply = take_photo(label_html, bbox)\n",
        "    # js_reply = take_photo(label_html, bbox)\n",
        "    if not js_reply:\n",
        "        break\n",
        "\n",
        "    # convert JS response to OpenCV Image\n",
        "    image = js_reply_to_image(js_reply)\n",
        "    # image = cv2.cvtColor(image, cv2.COLOR_BGR2RGB)\n",
        "\n",
        "    w,h = image.shape[:2]\n",
        "    # print('frame',w,h)\n",
        "    # create transparent overlay for bounding box\n",
        "    bbox_array = np.zeros([480,640,4], dtype=np.uint8)\n",
        "\n",
        "    # blob = _blobImage(image)\n",
        "\n",
        "    # bboxs = _extract_bbox(image, single=False)\n",
        "    blob = cv2.dnn.blobFromImage(image, 1.0, (300, 300),(104.0, 177.0, 123.0))\n",
        "    FACEnet.setInput(blob)\n",
        "    detections = FACEnet.forward()\n",
        "    # FACEnet.setInput(blob)\n",
        "    # detections = FACEnet.forward()\n",
        "\n",
        "    for i in range(detections.shape[2]):\n",
        "        confidence = detections[0,0,i,2]\n",
        "        if confidence > 0.5:\n",
        "          box = detections[0, 0, i, 3:7] * np.array([w, h, w, h])\n",
        "          (startX, startY, endX, endY) = box.astype(\"int\")\n",
        "        \n",
        "          (startX, startY) = (max(0, startX), max(0, startY))\n",
        "          (endX, endY) = (min(w - 1, endX), min(h - 1, endY))\n",
        "        \n",
        "          face = image[startY:endY, startX:endX]\n",
        "          face = cv2.cvtColor(face, cv2.COLOR_BGR2RGB)\n",
        "          face_rz = cv2.resize(face, (224, 224))\n",
        "          # Chuẩn hóa ảnh bằng hàm _normalize_image\n",
        "          face_tf = _normalize_image(face_rz)\n",
        "          face_tf = np.expand_dims(face_tf, axis = 0)\n",
        "          # Embedding face\n",
        "          vec = model.predict(face_tf)\n",
        "          # Tìm kiếm ảnh gần nhất\n",
        "          name = _most_similarity(X_train_vec, vec, y_au)\n",
        "          \n",
        "          label = name\n",
        "          if label != \"unknown\":\n",
        "            bbox_array = cv2.putText(bbox_array, label, (startX, startY - 10),cv2.FONT_HERSHEY_SIMPLEX, 0.45, (0,0,225), 2)\n",
        "            bbox_array = cv2.rectangle(bbox_array, (startX  + 70, startY), (endX + 70, endY), (0,0,255), 2)\n",
        "          else:\n",
        "            label = name\n",
        "            bbox_array = cv2.putText(bbox_array, label, (startX, startY - 10),cv2.FONT_HERSHEY_SIMPLEX, 0.45, (255,0,0), 2)\n",
        "            bbox_array = cv2.rectangle(bbox_array, (startX  + 70, startY), (endX + 70, endY), (255,0,0), 2)\n",
        "\n",
        "    bbox_array[:,:,3] = (bbox_array.max(axis = 2) > 0 ).astype(int) * 255\n",
        "    # convert overlay of bbox into bytes\n",
        "    bbox_bytes = bbox_to_bytes(bbox_array)\n",
        "    # update bbox so next frame gets new overlay\n",
        "    bbox = bbox_bytes\n",
        "\n",
        "    if cv2.waitKey(1) & 0xFF == ord('q'):\n",
        "      break"
      ],
      "metadata": {
        "colab": {
          "base_uri": "https://localhost:8080/",
          "height": 17
        },
        "id": "kwrcP8ZwRY76",
        "outputId": "9fc89455-e01d-45af-c2fa-8d9695c05a57"
      },
      "execution_count": null,
      "outputs": [
        {
          "output_type": "display_data",
          "data": {
            "text/plain": [
              "<IPython.core.display.Javascript object>"
            ],
            "application/javascript": [
              "\n",
              "    var video;\n",
              "    var div = null;\n",
              "    var stream;\n",
              "    var captureCanvas;\n",
              "    var imgElement;\n",
              "    var labelElement;\n",
              "    \n",
              "    var pendingResolve = null;\n",
              "    var shutdown = false;\n",
              "    \n",
              "    function removeDom() {\n",
              "       stream.getVideoTracks()[0].stop();\n",
              "       video.remove();\n",
              "       div.remove();\n",
              "       video = null;\n",
              "       div = null;\n",
              "       stream = null;\n",
              "       imgElement = null;\n",
              "       captureCanvas = null;\n",
              "       labelElement = null;\n",
              "    }\n",
              "    \n",
              "    function onAnimationFrame() {\n",
              "      if (!shutdown) {\n",
              "        window.requestAnimationFrame(onAnimationFrame);\n",
              "      }\n",
              "      if (pendingResolve) {\n",
              "        var result = \"\";\n",
              "        if (!shutdown) {\n",
              "          captureCanvas.getContext('2d').drawImage(video, 0, 0, 512, 512);\n",
              "          result = captureCanvas.toDataURL('image/jpeg', 0.8)\n",
              "        }\n",
              "        var lp = pendingResolve;\n",
              "        pendingResolve = null;\n",
              "        lp(result);\n",
              "      }\n",
              "    }\n",
              "    \n",
              "    async function createDom() {\n",
              "      if (div !== null) {\n",
              "        return stream;\n",
              "      }\n",
              "\n",
              "      div = document.createElement('div');\n",
              "      div.style.border = '2px solid black';\n",
              "      div.style.padding = '3px';\n",
              "      div.style.width = '100%';\n",
              "      div.style.maxWidth = '600px';\n",
              "      document.body.appendChild(div);\n",
              "      \n",
              "      const modelOut = document.createElement('div');\n",
              "      modelOut.innerHTML = \"<span>Status:</span>\";\n",
              "      labelElement = document.createElement('span');\n",
              "      labelElement.innerText = 'No data';\n",
              "      labelElement.style.fontWeight = 'bold';\n",
              "      modelOut.appendChild(labelElement);\n",
              "      div.appendChild(modelOut);\n",
              "           \n",
              "      video = document.createElement('video');\n",
              "      video.style.display = 'block';\n",
              "      video.width = div.clientWidth - 6;\n",
              "      video.setAttribute('playsinline', '');\n",
              "      video.onclick = () => { shutdown = true; };\n",
              "      stream = await navigator.mediaDevices.getUserMedia(\n",
              "          {video: { facingMode: \"environment\"}});\n",
              "      div.appendChild(video);\n",
              "\n",
              "      imgElement = document.createElement('img');\n",
              "      imgElement.style.position = 'absolute';\n",
              "      imgElement.style.zIndex = 1;\n",
              "      imgElement.onclick = () => { shutdown = true; };\n",
              "      div.appendChild(imgElement);\n",
              "      \n",
              "      const instruction = document.createElement('div');\n",
              "      instruction.innerHTML = \n",
              "          '<span style=\"color: red; font-weight: bold;\">' +\n",
              "          'When finished, click here or on the video to stop this demo</span>';\n",
              "      div.appendChild(instruction);\n",
              "      instruction.onclick = () => { shutdown = true; };\n",
              "      \n",
              "      video.srcObject = stream;\n",
              "      await video.play();\n",
              "\n",
              "      captureCanvas = document.createElement('canvas');\n",
              "      captureCanvas.width = 512; //video.videoWidth;\n",
              "      captureCanvas.height = 512; //video.videoHeight;\n",
              "      window.requestAnimationFrame(onAnimationFrame);\n",
              "      \n",
              "      return stream;\n",
              "    }\n",
              "    async function takePhoto(label, imgData) {\n",
              "      if (shutdown) {\n",
              "        removeDom();\n",
              "        shutdown = false;\n",
              "        return '';\n",
              "      }\n",
              "\n",
              "      var preCreate = Date.now();\n",
              "      stream = await createDom();\n",
              "      \n",
              "      var preShow = Date.now();\n",
              "      if (label != \"\") {\n",
              "        labelElement.innerHTML = label;\n",
              "      }\n",
              "            \n",
              "      if (imgData != \"\") {\n",
              "        var videoRect = video.getClientRects()[0];\n",
              "        imgElement.style.top = videoRect.top + \"px\";\n",
              "        imgElement.style.left = videoRect.left + \"px\";\n",
              "        imgElement.style.width = videoRect.width + \"px\";\n",
              "        imgElement.style.height = videoRect.height + \"px\";\n",
              "        imgElement.src = imgData;\n",
              "      }\n",
              "      \n",
              "      var preCapture = Date.now();\n",
              "      var result = await new Promise(function(resolve, reject) {\n",
              "        pendingResolve = resolve;\n",
              "      });\n",
              "      shutdown = false;\n",
              "      \n",
              "      return {'create': preShow - preCreate, \n",
              "              'show': preCapture - preShow, \n",
              "              'capture': Date.now() - preCapture,\n",
              "              'img': result};\n",
              "    }\n",
              "    "
            ]
          },
          "metadata": {}
        }
      ]
    }
  ]
}